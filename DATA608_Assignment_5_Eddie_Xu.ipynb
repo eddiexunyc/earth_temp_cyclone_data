{
 "cells": [
  {
   "cell_type": "markdown",
   "metadata": {},
   "source": [
    "# DATA 608 Assignment 5: What Is The Effect Of The Earth's Temperature on Cyclonic Storms?\n",
    "\n",
    "Historic data indicates that the occurrence and intensity of cyclonic storms (Hurricanes, Typhoons and Tornados) increases with the increased earth temperature. \n",
    "\n",
    "For this assignment you will need to tell this story to a non-technical audience (eg: a high-school earth science class)\n",
    "\n"
   ]
  },
  {
   "cell_type": "code",
   "execution_count": 69,
   "metadata": {},
   "outputs": [],
   "source": [
    "# load dependencies\n",
    "import numpy as np\n",
    "import pandas as pd\n",
    "import matplotlib.pyplot as plt\n",
    "from matplotlib import ticker\n",
    "import seaborn as sns"
   ]
  },
  {
   "cell_type": "markdown",
   "metadata": {},
   "source": [
    "# Data Preparation"
   ]
  },
  {
   "cell_type": "code",
   "execution_count": 120,
   "metadata": {},
   "outputs": [],
   "source": [
    "# load the data set for earth anomalies\n",
    "anomalies_url = 'https://raw.githubusercontent.com/eddiexunyc/earth_temp_cyclone_data/refs/heads/main/Resources/anomalies_data.csv'\n",
    "land_ocean_anomalies_data = pd.read_csv(anomalies_url)\n",
    "\n",
    "# load the data set for earth temperature\n",
    "earth_temp_url = 'https://raw.githubusercontent.com/eddiexunyc/earth_temp_cyclone_data/refs/heads/main/Resources/nasa_temperature_data.csv'\n",
    "earth_temp_raw_data = pd.read_csv(earth_temp_url)\n",
    "\n",
    "# load the hurricane data set and remove uncessary columns\n",
    "hur_data_url = 'https://www.nhc.noaa.gov/data/hurdat/hurdat2-1851-2023-051124.txt'\n",
    "hurricane_raw_data = pd.read_csv(hur_data_url, sep = ',').reset_index()\n",
    "hurricane_raw_data = hurricane_raw_data.drop(['AL011851', '            UNNAMED', '     14', 'Unnamed: 3','level_7',\n",
    "                                               'level_8', 'level_9', 'level_10', 'level_11', 'level_12', \n",
    "                                              'level_13', 'level_14', 'level_15', 'level_16'], axis=1)"
   ]
  },
  {
   "cell_type": "markdown",
   "metadata": {},
   "source": [
    "The hurricane data is sourced from NOAA Hurricane Database and is unstructured. Because of that, it needs to be transformed before loading it for data analysis and visualization. The anomalies data will be also be cleansed as well."
   ]
  },
  {
   "cell_type": "code",
   "execution_count": 151,
   "metadata": {},
   "outputs": [
    {
     "name": "stderr",
     "output_type": "stream",
     "text": [
      "/var/folders/h4/zjq554hs0b57vqfcrc5738wh0000gn/T/ipykernel_12961/605929286.py:17: FutureWarning: Using short name for 'orient' is deprecated. Only the options: ('dict', list, 'series', 'split', 'records', 'index') will be used in a future version. Use one of the above to silence this warning.\n",
      "  hurricane_raw_data_dict = hurricane_raw_data.to_dict(orient='record')\n",
      "/var/folders/h4/zjq554hs0b57vqfcrc5738wh0000gn/T/ipykernel_12961/605929286.py:54: UserWarning: Boolean Series key will be reindexed to match DataFrame index.\n",
      "  high_risk_hurricane = hurricane_25_data[hurricane_data['category'] > 3]\n"
     ]
    }
   ],
   "source": [
    "# create Saffir-Simpson Hurricane Scale function\n",
    "def hurricane_scale(x):\n",
    "    if 74 <= x['wind_speed'] <= 95:\n",
    "        return 1\n",
    "    elif 96 <= x['wind_speed'] <= 110:\n",
    "        return 2\n",
    "    elif 111 <= x['wind_speed'] <= 129:\n",
    "        return 3\n",
    "    elif 130 <= x['wind_speed'] <= 156:\n",
    "        return 4\n",
    "    elif x['wind_speed'] >= 157:\n",
    "        return 5\n",
    "    else:\n",
    "        return 0\n",
    "\n",
    "# create a dictionary and sort the data based on the storm ID and name\n",
    "hurricane_raw_data_dict = hurricane_raw_data.to_dict(orient='record')\n",
    "storm_id = None\n",
    "storm_name = None\n",
    "date_time = None\n",
    "latitude = None\n",
    "longtitude = None\n",
    "wind_speed = None\n",
    "\n",
    "hurricane_data = []\n",
    "\n",
    "for data in hurricane_raw_data_dict:\n",
    "    if data['level_0'].startswith('AL'):\n",
    "        storm_id = data['level_0']\n",
    "        storm_name = data['level_1']\n",
    "    else:\n",
    "        date_time = data['level_0']\n",
    "        latitude = data['level_4']\n",
    "        longtitude = data['level_5']\n",
    "        wind_speed = data['level_6']\n",
    "\n",
    "    hurricane_data.append({\n",
    "        'storm_id': storm_id,\n",
    "        'storm_name': storm_name,\n",
    "        'date_time': date_time,\n",
    "        'latitude': latitude,\n",
    "        'longtitude': longtitude,\n",
    "        'wind_speed': wind_speed\n",
    "    })\n",
    "\n",
    "# convert the dictionary back to a data frame\n",
    "hurricane_data = pd.DataFrame(hurricane_data)\n",
    "hurricane_data['date_time'] = pd.to_datetime(hurricane_data['date_time'], format='%Y-%m-%d')\n",
    "hurricane_data['year'] = hurricane_data['date_time'].dt.year\n",
    "hurricane_data['category'] = hurricane_data.apply(hurricane_scale, axis=1)\n",
    "\n",
    "# extract the data starting from 1999 and group by\n",
    "hurricane_25_data = hurricane_data[hurricane_data['year'] >= 1999]\n",
    "high_risk_hurricane = hurricane_25_data[hurricane_data['category'] > 3]\n",
    "high_risk_hurricane_count = high_risk_hurricane.groupby('year')['storm_id'].nunique().reset_index(name='counts')\n",
    "hurricane_average_data = round(hurricane_25_data.groupby(['storm_name', 'year'])['wind_speed'].mean(), 2).reset_index().sort_values(['year'])\n",
    "hurricane_average_data_count = hurricane_average_data.groupby('year').size().reset_index(name='counts')\n",
    "\n",
    "# rename columns on earth anomalies data\n",
    "land_ocean_anomalies_data = land_ocean_anomalies_data.rename(columns={'Year': 'year', 'Anomaly': 'Temperature Change'})"
   ]
  },
  {
   "cell_type": "code",
   "execution_count": 152,
   "metadata": {},
   "outputs": [
    {
     "data": {
      "text/html": [
       "<div>\n",
       "<style scoped>\n",
       "    .dataframe tbody tr th:only-of-type {\n",
       "        vertical-align: middle;\n",
       "    }\n",
       "\n",
       "    .dataframe tbody tr th {\n",
       "        vertical-align: top;\n",
       "    }\n",
       "\n",
       "    .dataframe thead th {\n",
       "        text-align: right;\n",
       "    }\n",
       "</style>\n",
       "<table border=\"1\" class=\"dataframe\">\n",
       "  <thead>\n",
       "    <tr style=\"text-align: right;\">\n",
       "      <th></th>\n",
       "      <th>year</th>\n",
       "      <th>counts</th>\n",
       "      <th>Temperature Change</th>\n",
       "    </tr>\n",
       "  </thead>\n",
       "  <tbody>\n",
       "    <tr>\n",
       "      <th>0</th>\n",
       "      <td>1999</td>\n",
       "      <td>3</td>\n",
       "      <td>0.44</td>\n",
       "    </tr>\n",
       "    <tr>\n",
       "      <th>1</th>\n",
       "      <td>2003</td>\n",
       "      <td>1</td>\n",
       "      <td>0.60</td>\n",
       "    </tr>\n",
       "    <tr>\n",
       "      <th>2</th>\n",
       "      <td>2004</td>\n",
       "      <td>2</td>\n",
       "      <td>0.58</td>\n",
       "    </tr>\n",
       "    <tr>\n",
       "      <th>3</th>\n",
       "      <td>2005</td>\n",
       "      <td>5</td>\n",
       "      <td>0.66</td>\n",
       "    </tr>\n",
       "    <tr>\n",
       "      <th>4</th>\n",
       "      <td>2007</td>\n",
       "      <td>2</td>\n",
       "      <td>0.69</td>\n",
       "    </tr>\n",
       "    <tr>\n",
       "      <th>5</th>\n",
       "      <td>2008</td>\n",
       "      <td>1</td>\n",
       "      <td>0.52</td>\n",
       "    </tr>\n",
       "    <tr>\n",
       "      <th>6</th>\n",
       "      <td>2010</td>\n",
       "      <td>1</td>\n",
       "      <td>0.75</td>\n",
       "    </tr>\n",
       "    <tr>\n",
       "      <th>7</th>\n",
       "      <td>2015</td>\n",
       "      <td>1</td>\n",
       "      <td>0.83</td>\n",
       "    </tr>\n",
       "    <tr>\n",
       "      <th>8</th>\n",
       "      <td>2016</td>\n",
       "      <td>1</td>\n",
       "      <td>1.08</td>\n",
       "    </tr>\n",
       "    <tr>\n",
       "      <th>9</th>\n",
       "      <td>2017</td>\n",
       "      <td>3</td>\n",
       "      <td>0.93</td>\n",
       "    </tr>\n",
       "    <tr>\n",
       "      <th>10</th>\n",
       "      <td>2018</td>\n",
       "      <td>2</td>\n",
       "      <td>0.86</td>\n",
       "    </tr>\n",
       "    <tr>\n",
       "      <th>11</th>\n",
       "      <td>2019</td>\n",
       "      <td>2</td>\n",
       "      <td>0.95</td>\n",
       "    </tr>\n",
       "    <tr>\n",
       "      <th>12</th>\n",
       "      <td>2020</td>\n",
       "      <td>3</td>\n",
       "      <td>1.04</td>\n",
       "    </tr>\n",
       "    <tr>\n",
       "      <th>13</th>\n",
       "      <td>2021</td>\n",
       "      <td>2</td>\n",
       "      <td>0.86</td>\n",
       "    </tr>\n",
       "    <tr>\n",
       "      <th>14</th>\n",
       "      <td>2022</td>\n",
       "      <td>1</td>\n",
       "      <td>0.92</td>\n",
       "    </tr>\n",
       "    <tr>\n",
       "      <th>15</th>\n",
       "      <td>2023</td>\n",
       "      <td>2</td>\n",
       "      <td>1.05</td>\n",
       "    </tr>\n",
       "  </tbody>\n",
       "</table>\n",
       "</div>"
      ],
      "text/plain": [
       "    year  counts  Temperature Change\n",
       "0   1999       3                0.44\n",
       "1   2003       1                0.60\n",
       "2   2004       2                0.58\n",
       "3   2005       5                0.66\n",
       "4   2007       2                0.69\n",
       "5   2008       1                0.52\n",
       "6   2010       1                0.75\n",
       "7   2015       1                0.83\n",
       "8   2016       1                1.08\n",
       "9   2017       3                0.93\n",
       "10  2018       2                0.86\n",
       "11  2019       2                0.95\n",
       "12  2020       3                1.04\n",
       "13  2021       2                0.86\n",
       "14  2022       1                0.92\n",
       "15  2023       2                1.05"
      ]
     },
     "execution_count": 152,
     "metadata": {},
     "output_type": "execute_result"
    }
   ],
   "source": [
    "cyclone_temp_data = high_risk_hurricane_count.merge(land_ocean_anomalies_data, how='left', on = 'year')\n",
    "cyclone_temp_data"
   ]
  },
  {
   "cell_type": "markdown",
   "metadata": {},
   "source": [
    "# Data Visualization"
   ]
  },
  {
   "cell_type": "code",
   "execution_count": null,
   "metadata": {},
   "outputs": [
    {
     "data": {
      "image/png": "[encoded data removed]",
      "text/plain": [
       "<Figure size 640x480 with 2 Axes>"
      ]
     },
     "metadata": {},
     "output_type": "display_data"
    }
   ],
   "source": [
    "# line and bar graph\n",
    "fig = plt.figure()\n",
    "ax1 = fig.add_subplot(111)\n",
    "ax1.plot(cyclone_temp_data['year'], cyclone_temp_data['Temperature Change'], color='lightblue', lw=2, label = 'Temperature')\n",
    "ax2 = ax1.twinx()\n",
    "ax2.scatter(cyclone_temp_data['year'], cyclone_temp_data['counts'], color='pink', label = 'Hurricane')\n",
    "plt.title('High Risk Hurricanes and Temperature Change from 1999 to 2024', size = 15)\n",
    "ax1.grid()\n",
    "\n",
    "# customize both x and y labels\n",
    "ax1.set_xlabel('Year', size = 12)\n",
    "ax1.set_ylabel('Temperature Anomaly', size = 12)\n",
    "ax2.set_ylabel('Hurricanes Count', size = 12)\n",
    "\n",
    "plt.show()"
   ]
  },
  {
   "cell_type": "code",
   "execution_count": null,
   "metadata": {},
   "outputs": [],
   "source": []
  },
  {
   "cell_type": "code",
   "execution_count": null,
   "metadata": {},
   "outputs": [],
   "source": []
  },
  {
   "cell_type": "code",
   "execution_count": null,
   "metadata": {},
   "outputs": [],
   "source": []
  }
 ],
 "metadata": {
  "kernelspec": {
   "display_name": "base",
   "language": "python",
   "name": "python3"
  },
  "language_info": {
   "codemirror_mode": {
    "name": "ipython",
    "version": 3
   },
   "file_extension": ".py",
   "mimetype": "text/x-python",
   "name": "python",
   "nbconvert_exporter": "python",
   "pygments_lexer": "ipython3",
   "version": "3.9.13"
  }
 },
 "nbformat": 4,
 "nbformat_minor": 2
}
