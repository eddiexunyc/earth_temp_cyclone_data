{
 "cells": [
  {
   "cell_type": "markdown",
   "metadata": {},
   "source": [
    "# DATA 608 Assignment 5: What Is The Effect Of The Earth's Temperature on Cyclonic Storms?\n",
    "\n",
    "Historic data indicates that the occurrence and intensity of cyclonic storms (Hurricanes, Typhoons and Tornados) increases with the increased earth temperature. For this assignment you will need to tell this story to a non-technical audience (eg: a high-school earth science class)"
   ]
  },
  {
   "cell_type": "code",
   "execution_count": 2,
   "metadata": {},
   "outputs": [],
   "source": [
    "# load dependencies\n",
    "import numpy as np\n",
    "import pandas as pd\n",
    "import matplotlib.pyplot as plt\n",
    "from matplotlib import ticker\n",
    "import seaborn as sns"
   ]
  },
  {
   "cell_type": "code",
   "execution_count": null,
   "metadata": {},
   "outputs": [
    {
     "data": {
      "text/plain": [
       "['level_0',\n",
       " 'level_1',\n",
       " 'level_2',\n",
       " 'level_3',\n",
       " 'level_4',\n",
       " 'level_5',\n",
       " 'level_6',\n",
       " 'level_7',\n",
       " 'level_8',\n",
       " 'level_9',\n",
       " 'level_10',\n",
       " 'level_11',\n",
       " 'level_12',\n",
       " 'level_13',\n",
       " 'level_14',\n",
       " 'level_15',\n",
       " 'level_16',\n",
       " 'AL011851',\n",
       " '            UNNAMED',\n",
       " '     14',\n",
       " 'Unnamed: 3']"
      ]
     },
     "execution_count": 16,
     "metadata": {},
     "output_type": "execute_result"
    }
   ],
   "source": [
    "hur_data_url = 'https://www.nhc.noaa.gov/data/hurdat/hurdat2-1851-2023-051124.txt'\n",
    "anomalies_url = 'https://raw.githubusercontent.com/eddiexunyc/earth_temp_cyclone_data/refs/heads/main/Resources/anomalies_data.csv'\n",
    "\n",
    "anomalies_data = pd.read_csv(anomalies_url)\n",
    "hurricane_raw_data = pd.read_csv(hur_data_url, sep = ',').reset_index()\n",
    "list(hurricane_raw_data.columns)\n",
    "hurricane_raw_data\n"
   ]
  }
 ],
 "metadata": {
  "kernelspec": {
   "display_name": "base",
   "language": "python",
   "name": "python3"
  },
  "language_info": {
   "codemirror_mode": {
    "name": "ipython",
    "version": 3
   },
   "file_extension": ".py",
   "mimetype": "text/x-python",
   "name": "python",
   "nbconvert_exporter": "python",
   "pygments_lexer": "ipython3",
   "version": "3.9.13"
  }
 },
 "nbformat": 4,
 "nbformat_minor": 2
}
